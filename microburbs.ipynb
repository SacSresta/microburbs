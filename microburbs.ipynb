{
 "cells": [
  {
   "cell_type": "code",
   "execution_count": 1,
   "id": "84a4b02e",
   "metadata": {},
   "outputs": [],
   "source": [
    "!pip install --quiet pyarrow fastparquet seaborn scikit-learn pandas matplotlib\n",
    "\n"
   ]
  },
  {
   "cell_type": "markdown",
   "id": "beb2fd03",
   "metadata": {},
   "source": [
    "This cell installs required packages (pyarrow, fastparquet, seaborn, scikit-learn, pandas, matplotlib) so Parquet files can be read and results can be plotted. On many systems these may already be installed; if so this cell will run quickly. If you run in an environment without install permissions, install packages externally or skip this cell."
   ]
  },
  {
   "cell_type": "code",
   "execution_count": 2,
   "id": "f261f626",
   "metadata": {},
   "outputs": [],
   "source": [
    "import pandas as pd\n",
    "import numpy as np\n",
    "import matplotlib.pyplot as plt\n",
    "import seaborn as sns\n",
    "from pathlib import Path\n"
   ]
  },
  {
   "cell_type": "markdown",
   "id": "fe506788",
   "metadata": {},
   "source": [
    "This cell imports commonly used data and plotting libraries: pandas and numpy for data manipulation, matplotlib and seaborn for visualization, and Path for filesystem paths. These imports are used throughout the notebook."
   ]
  },
  {
   "cell_type": "code",
   "execution_count": 23,
   "id": "ef112a73",
   "metadata": {},
   "outputs": [],
   "source": [
    "df = pd.read_parquet(r'F:\\Microburbs\\drive-download-20251012T232127Z-1-001\\transactions.parquet', engine=\"fastparquet\")"
   ]
  },
  {
   "cell_type": "markdown",
   "id": "95e55c73",
   "metadata": {},
   "source": [
    "Reads the transactions dataset from a Parquet file into the DataFrame `df`. The `fastparquet` engine is specified. If the path is incorrect or the file is missing the read will fail — ensure `transactions.parquet` is present in the workspace path shown."
   ]
  },
  {
   "cell_type": "code",
   "execution_count": 24,
   "id": "5c40c305",
   "metadata": {},
   "outputs": [
    {
     "data": {
      "text/plain": [
       "gid                                  object\n",
       "gnaf_pid                             object\n",
       "listing_source                       object\n",
       "state                                object\n",
       "street                               object\n",
       "suburb                               object\n",
       "bedrooms                            float64\n",
       "bathrooms                           float64\n",
       "garage_spaces                       float64\n",
       "building_size                        object\n",
       "land_size                           float64\n",
       "mb                                   object\n",
       "sa1                                  object\n",
       "poa                                  object\n",
       "sal                                  object\n",
       "typ                                  object\n",
       "dat                          datetime64[ns]\n",
       "price                               float64\n",
       "zoning_appears_on_portals              bool\n",
       "market                               object\n",
       "hedonic_price                       float64\n",
       "date_sold                            object\n",
       "display_price                        object\n",
       "source                               object\n",
       "property_type                        object\n",
       "yield                               float64\n",
       "dtype: object"
      ]
     },
     "execution_count": 24,
     "metadata": {},
     "output_type": "execute_result"
    }
   ],
   "source": [
    "df.dtypes"
   ]
  },
  {
   "cell_type": "markdown",
   "id": "51c437af",
   "metadata": {},
   "source": [
    "Displays the data types of each column in `df`. This helps confirm numerical columns (int/float) vs categorical/object columns and ensures subsequent numeric operations are applied to appropriate types."
   ]
  },
  {
   "cell_type": "code",
   "execution_count": 27,
   "id": "3d11ad78",
   "metadata": {},
   "outputs": [],
   "source": [
    "df.rename(columns = {'price':'sale_price'}, inplace=True)"
   ]
  },
  {
   "cell_type": "code",
   "execution_count": 28,
   "id": "f99546cd",
   "metadata": {},
   "outputs": [
    {
     "data": {
      "text/html": [
       "<div>\n",
       "<style scoped>\n",
       "    .dataframe tbody tr th:only-of-type {\n",
       "        vertical-align: middle;\n",
       "    }\n",
       "\n",
       "    .dataframe tbody tr th {\n",
       "        vertical-align: top;\n",
       "    }\n",
       "\n",
       "    .dataframe thead th {\n",
       "        text-align: right;\n",
       "    }\n",
       "</style>\n",
       "<table border=\"1\" class=\"dataframe\">\n",
       "  <thead>\n",
       "    <tr style=\"text-align: right;\">\n",
       "      <th></th>\n",
       "      <th>gid</th>\n",
       "      <th>gnaf_pid</th>\n",
       "      <th>listing_source</th>\n",
       "      <th>state</th>\n",
       "      <th>street</th>\n",
       "      <th>suburb</th>\n",
       "      <th>bedrooms</th>\n",
       "      <th>bathrooms</th>\n",
       "      <th>garage_spaces</th>\n",
       "      <th>building_size</th>\n",
       "      <th>...</th>\n",
       "      <th>dat</th>\n",
       "      <th>sale_price</th>\n",
       "      <th>zoning_appears_on_portals</th>\n",
       "      <th>market</th>\n",
       "      <th>hedonic_price</th>\n",
       "      <th>date_sold</th>\n",
       "      <th>display_price</th>\n",
       "      <th>source</th>\n",
       "      <th>property_type</th>\n",
       "      <th>yield</th>\n",
       "    </tr>\n",
       "  </thead>\n",
       "  <tbody>\n",
       "    <tr>\n",
       "      <th>10</th>\n",
       "      <td>9566571.0</td>\n",
       "      <td>GANSW705844500</td>\n",
       "      <td>Sold</td>\n",
       "      <td>NSW</td>\n",
       "      <td>64 ROSEVILLE AVE</td>\n",
       "      <td>ROSEVILLE</td>\n",
       "      <td>5.0</td>\n",
       "      <td>4.0</td>\n",
       "      <td>NaN</td>\n",
       "      <td>0 m²</td>\n",
       "      <td>...</td>\n",
       "      <td>2002-12-19</td>\n",
       "      <td>2155000.0</td>\n",
       "      <td>False</td>\n",
       "      <td>Roseville house buy</td>\n",
       "      <td>1.950000e+06</td>\n",
       "      <td>2002-12-19</td>\n",
       "      <td>2155000.0</td>\n",
       "      <td>nswlrs</td>\n",
       "      <td>UNKNOWN</td>\n",
       "      <td>NaN</td>\n",
       "    </tr>\n",
       "    <tr>\n",
       "      <th>28</th>\n",
       "      <td>8821081.0</td>\n",
       "      <td>GANSW706332342</td>\n",
       "      <td>Sold</td>\n",
       "      <td>NSW</td>\n",
       "      <td>18 PENKIVIL ST</td>\n",
       "      <td>WILLOUGHBY</td>\n",
       "      <td>NaN</td>\n",
       "      <td>NaN</td>\n",
       "      <td>NaN</td>\n",
       "      <td>0 m²</td>\n",
       "      <td>...</td>\n",
       "      <td>2002-12-19</td>\n",
       "      <td>925000.0</td>\n",
       "      <td>False</td>\n",
       "      <td>Willoughby (NSW) house buy</td>\n",
       "      <td>6.930000e+05</td>\n",
       "      <td>2002-12-19</td>\n",
       "      <td>925000.0</td>\n",
       "      <td>nswlrs</td>\n",
       "      <td>UNKNOWN</td>\n",
       "      <td>NaN</td>\n",
       "    </tr>\n",
       "    <tr>\n",
       "      <th>32</th>\n",
       "      <td>8944315.0</td>\n",
       "      <td>GANSW706324522</td>\n",
       "      <td>Sold</td>\n",
       "      <td>NSW</td>\n",
       "      <td>120/2 ARTARMON RD</td>\n",
       "      <td>WILLOUGHBY</td>\n",
       "      <td>NaN</td>\n",
       "      <td>NaN</td>\n",
       "      <td>NaN</td>\n",
       "      <td>None</td>\n",
       "      <td>...</td>\n",
       "      <td>2002-12-19</td>\n",
       "      <td>450000.0</td>\n",
       "      <td>False</td>\n",
       "      <td>Willoughby (NSW) unit buy</td>\n",
       "      <td>7.005405e+05</td>\n",
       "      <td>2002-12-19</td>\n",
       "      <td>450000.0</td>\n",
       "      <td>nswlrs</td>\n",
       "      <td>UNKNOWN</td>\n",
       "      <td>NaN</td>\n",
       "    </tr>\n",
       "    <tr>\n",
       "      <th>92</th>\n",
       "      <td>550002.0</td>\n",
       "      <td>GANSW705618555</td>\n",
       "      <td>Sold</td>\n",
       "      <td>NSW</td>\n",
       "      <td>12 PARKER ST</td>\n",
       "      <td>NORTHBRIDGE</td>\n",
       "      <td>4.0</td>\n",
       "      <td>5.0</td>\n",
       "      <td>NaN</td>\n",
       "      <td>0 m²</td>\n",
       "      <td>...</td>\n",
       "      <td>2002-12-20</td>\n",
       "      <td>2800000.0</td>\n",
       "      <td>False</td>\n",
       "      <td>Northbridge (NSW) house buy</td>\n",
       "      <td>1.400000e+06</td>\n",
       "      <td>2002-12-20</td>\n",
       "      <td>2800000.0</td>\n",
       "      <td>nswlrs</td>\n",
       "      <td>UNKNOWN</td>\n",
       "      <td>NaN</td>\n",
       "    </tr>\n",
       "    <tr>\n",
       "      <th>93</th>\n",
       "      <td>5584777.0</td>\n",
       "      <td>GANSW705618551</td>\n",
       "      <td>Sold</td>\n",
       "      <td>NSW</td>\n",
       "      <td>1 PARKER ST</td>\n",
       "      <td>NORTHBRIDGE</td>\n",
       "      <td>5.0</td>\n",
       "      <td>3.0</td>\n",
       "      <td>2.0</td>\n",
       "      <td>0 m²</td>\n",
       "      <td>...</td>\n",
       "      <td>2002-12-20</td>\n",
       "      <td>1225000.0</td>\n",
       "      <td>False</td>\n",
       "      <td>Northbridge (NSW) house buy</td>\n",
       "      <td>1.885000e+06</td>\n",
       "      <td>2002-12-20</td>\n",
       "      <td>1225000.0</td>\n",
       "      <td>nswlrs</td>\n",
       "      <td>UNKNOWN</td>\n",
       "      <td>NaN</td>\n",
       "    </tr>\n",
       "    <tr>\n",
       "      <th>...</th>\n",
       "      <td>...</td>\n",
       "      <td>...</td>\n",
       "      <td>...</td>\n",
       "      <td>...</td>\n",
       "      <td>...</td>\n",
       "      <td>...</td>\n",
       "      <td>...</td>\n",
       "      <td>...</td>\n",
       "      <td>...</td>\n",
       "      <td>...</td>\n",
       "      <td>...</td>\n",
       "      <td>...</td>\n",
       "      <td>...</td>\n",
       "      <td>...</td>\n",
       "      <td>...</td>\n",
       "      <td>...</td>\n",
       "      <td>...</td>\n",
       "      <td>...</td>\n",
       "      <td>...</td>\n",
       "      <td>...</td>\n",
       "      <td>...</td>\n",
       "    </tr>\n",
       "    <tr>\n",
       "      <th>600038</th>\n",
       "      <td>7263238.0</td>\n",
       "      <td>GANSW705859469</td>\n",
       "      <td>Sold</td>\n",
       "      <td>NSW</td>\n",
       "      <td>nan</td>\n",
       "      <td>ROSEVILLE</td>\n",
       "      <td>0.0</td>\n",
       "      <td>0.0</td>\n",
       "      <td>0.0</td>\n",
       "      <td>nan</td>\n",
       "      <td>...</td>\n",
       "      <td>2025-05-19</td>\n",
       "      <td>4350000.0</td>\n",
       "      <td>True</td>\n",
       "      <td>Roseville house buy</td>\n",
       "      <td>5.353846e+06</td>\n",
       "      <td>2025-05-19</td>\n",
       "      <td>4350000.0</td>\n",
       "      <td>nswlrs</td>\n",
       "      <td>NAN</td>\n",
       "      <td>NaN</td>\n",
       "    </tr>\n",
       "    <tr>\n",
       "      <th>600379</th>\n",
       "      <td>2458708.0</td>\n",
       "      <td>GANSW705565321</td>\n",
       "      <td>Sold</td>\n",
       "      <td>NSW</td>\n",
       "      <td>nan</td>\n",
       "      <td>NORTHBRIDGE</td>\n",
       "      <td>0.0</td>\n",
       "      <td>0.0</td>\n",
       "      <td>0.0</td>\n",
       "      <td>nan</td>\n",
       "      <td>...</td>\n",
       "      <td>2025-05-23</td>\n",
       "      <td>4900000.0</td>\n",
       "      <td>True</td>\n",
       "      <td>Northbridge (NSW) house buy</td>\n",
       "      <td>5.003554e+06</td>\n",
       "      <td>2025-05-23</td>\n",
       "      <td>4900000.0</td>\n",
       "      <td>nswlrs</td>\n",
       "      <td>NAN</td>\n",
       "      <td>NaN</td>\n",
       "    </tr>\n",
       "    <tr>\n",
       "      <th>601236</th>\n",
       "      <td>8199919.0</td>\n",
       "      <td>GANSW716752729</td>\n",
       "      <td>Sold</td>\n",
       "      <td>NSW</td>\n",
       "      <td>nan</td>\n",
       "      <td>NORTHBRIDGE</td>\n",
       "      <td>0.0</td>\n",
       "      <td>0.0</td>\n",
       "      <td>0.0</td>\n",
       "      <td>nan</td>\n",
       "      <td>...</td>\n",
       "      <td>2025-06-04</td>\n",
       "      <td>1200000.0</td>\n",
       "      <td>True</td>\n",
       "      <td>Northbridge (NSW) unit buy</td>\n",
       "      <td>2.400000e+06</td>\n",
       "      <td>2025-06-04</td>\n",
       "      <td>1200000.0</td>\n",
       "      <td>nswlrs</td>\n",
       "      <td>NAN</td>\n",
       "      <td>NaN</td>\n",
       "    </tr>\n",
       "    <tr>\n",
       "      <th>601413</th>\n",
       "      <td>14344113.0</td>\n",
       "      <td>GANSW710649300</td>\n",
       "      <td>Sold</td>\n",
       "      <td>NSW</td>\n",
       "      <td>nan</td>\n",
       "      <td>CASTLE COVE</td>\n",
       "      <td>0.0</td>\n",
       "      <td>0.0</td>\n",
       "      <td>0.0</td>\n",
       "      <td>nan</td>\n",
       "      <td>...</td>\n",
       "      <td>2025-06-06</td>\n",
       "      <td>3625000.0</td>\n",
       "      <td>True</td>\n",
       "      <td>Castle Cove house buy</td>\n",
       "      <td>4.737737e+06</td>\n",
       "      <td>2025-06-06</td>\n",
       "      <td>3625000.0</td>\n",
       "      <td>nswlrs</td>\n",
       "      <td>NAN</td>\n",
       "      <td>NaN</td>\n",
       "    </tr>\n",
       "    <tr>\n",
       "      <th>603378</th>\n",
       "      <td>6944083.0</td>\n",
       "      <td>GANSW718969351</td>\n",
       "      <td>Sold</td>\n",
       "      <td>NSW</td>\n",
       "      <td>nan</td>\n",
       "      <td>ROSEVILLE</td>\n",
       "      <td>0.0</td>\n",
       "      <td>0.0</td>\n",
       "      <td>0.0</td>\n",
       "      <td>nan</td>\n",
       "      <td>...</td>\n",
       "      <td>2025-07-03</td>\n",
       "      <td>720500.0</td>\n",
       "      <td>True</td>\n",
       "      <td>Roseville unit buy</td>\n",
       "      <td>7.506831e+05</td>\n",
       "      <td>2025-07-03</td>\n",
       "      <td>720500.0</td>\n",
       "      <td>nswlrs</td>\n",
       "      <td>NAN</td>\n",
       "      <td>NaN</td>\n",
       "    </tr>\n",
       "  </tbody>\n",
       "</table>\n",
       "<p>5576 rows × 26 columns</p>\n",
       "</div>"
      ],
      "text/plain": [
       "               gid        gnaf_pid listing_source state             street  \\\n",
       "10       9566571.0  GANSW705844500           Sold   NSW   64 ROSEVILLE AVE   \n",
       "28       8821081.0  GANSW706332342           Sold   NSW     18 PENKIVIL ST   \n",
       "32       8944315.0  GANSW706324522           Sold   NSW  120/2 ARTARMON RD   \n",
       "92        550002.0  GANSW705618555           Sold   NSW       12 PARKER ST   \n",
       "93       5584777.0  GANSW705618551           Sold   NSW        1 PARKER ST   \n",
       "...            ...             ...            ...   ...                ...   \n",
       "600038   7263238.0  GANSW705859469           Sold   NSW                nan   \n",
       "600379   2458708.0  GANSW705565321           Sold   NSW                nan   \n",
       "601236   8199919.0  GANSW716752729           Sold   NSW                nan   \n",
       "601413  14344113.0  GANSW710649300           Sold   NSW                nan   \n",
       "603378   6944083.0  GANSW718969351           Sold   NSW                nan   \n",
       "\n",
       "             suburb  bedrooms  bathrooms  garage_spaces building_size  ...  \\\n",
       "10        ROSEVILLE       5.0        4.0            NaN          0 m²  ...   \n",
       "28       WILLOUGHBY       NaN        NaN            NaN          0 m²  ...   \n",
       "32       WILLOUGHBY       NaN        NaN            NaN          None  ...   \n",
       "92      NORTHBRIDGE       4.0        5.0            NaN          0 m²  ...   \n",
       "93      NORTHBRIDGE       5.0        3.0            2.0          0 m²  ...   \n",
       "...             ...       ...        ...            ...           ...  ...   \n",
       "600038    ROSEVILLE       0.0        0.0            0.0           nan  ...   \n",
       "600379  NORTHBRIDGE       0.0        0.0            0.0           nan  ...   \n",
       "601236  NORTHBRIDGE       0.0        0.0            0.0           nan  ...   \n",
       "601413  CASTLE COVE       0.0        0.0            0.0           nan  ...   \n",
       "603378    ROSEVILLE       0.0        0.0            0.0           nan  ...   \n",
       "\n",
       "              dat sale_price zoning_appears_on_portals  \\\n",
       "10     2002-12-19  2155000.0                     False   \n",
       "28     2002-12-19   925000.0                     False   \n",
       "32     2002-12-19   450000.0                     False   \n",
       "92     2002-12-20  2800000.0                     False   \n",
       "93     2002-12-20  1225000.0                     False   \n",
       "...           ...        ...                       ...   \n",
       "600038 2025-05-19  4350000.0                      True   \n",
       "600379 2025-05-23  4900000.0                      True   \n",
       "601236 2025-06-04  1200000.0                      True   \n",
       "601413 2025-06-06  3625000.0                      True   \n",
       "603378 2025-07-03   720500.0                      True   \n",
       "\n",
       "                             market hedonic_price   date_sold display_price  \\\n",
       "10              Roseville house buy  1.950000e+06  2002-12-19     2155000.0   \n",
       "28       Willoughby (NSW) house buy  6.930000e+05  2002-12-19      925000.0   \n",
       "32        Willoughby (NSW) unit buy  7.005405e+05  2002-12-19      450000.0   \n",
       "92      Northbridge (NSW) house buy  1.400000e+06  2002-12-20     2800000.0   \n",
       "93      Northbridge (NSW) house buy  1.885000e+06  2002-12-20     1225000.0   \n",
       "...                             ...           ...         ...           ...   \n",
       "600038          Roseville house buy  5.353846e+06  2025-05-19     4350000.0   \n",
       "600379  Northbridge (NSW) house buy  5.003554e+06  2025-05-23     4900000.0   \n",
       "601236   Northbridge (NSW) unit buy  2.400000e+06  2025-06-04     1200000.0   \n",
       "601413        Castle Cove house buy  4.737737e+06  2025-06-06     3625000.0   \n",
       "603378           Roseville unit buy  7.506831e+05  2025-07-03      720500.0   \n",
       "\n",
       "        source  property_type yield  \n",
       "10      nswlrs        UNKNOWN   NaN  \n",
       "28      nswlrs        UNKNOWN   NaN  \n",
       "32      nswlrs        UNKNOWN   NaN  \n",
       "92      nswlrs        UNKNOWN   NaN  \n",
       "93      nswlrs        UNKNOWN   NaN  \n",
       "...        ...            ...   ...  \n",
       "600038  nswlrs            NAN   NaN  \n",
       "600379  nswlrs            NAN   NaN  \n",
       "601236  nswlrs            NAN   NaN  \n",
       "601413  nswlrs            NAN   NaN  \n",
       "603378  nswlrs            NAN   NaN  \n",
       "\n",
       "[5576 rows x 26 columns]"
      ]
     },
     "execution_count": 28,
     "metadata": {},
     "output_type": "execute_result"
    }
   ],
   "source": [
    "df"
   ]
  },
  {
   "cell_type": "code",
   "execution_count": 29,
   "id": "5c1b769e",
   "metadata": {},
   "outputs": [
    {
     "data": {
      "text/html": [
       "<div>\n",
       "<style scoped>\n",
       "    .dataframe tbody tr th:only-of-type {\n",
       "        vertical-align: middle;\n",
       "    }\n",
       "\n",
       "    .dataframe tbody tr th {\n",
       "        vertical-align: top;\n",
       "    }\n",
       "\n",
       "    .dataframe thead th {\n",
       "        text-align: right;\n",
       "    }\n",
       "</style>\n",
       "<table border=\"1\" class=\"dataframe\">\n",
       "  <thead>\n",
       "    <tr style=\"text-align: right;\">\n",
       "      <th></th>\n",
       "      <th>sale_price</th>\n",
       "      <th>hedonic_price</th>\n",
       "    </tr>\n",
       "  </thead>\n",
       "  <tbody>\n",
       "    <tr>\n",
       "      <th>10</th>\n",
       "      <td>2155000.0</td>\n",
       "      <td>1.950000e+06</td>\n",
       "    </tr>\n",
       "    <tr>\n",
       "      <th>28</th>\n",
       "      <td>925000.0</td>\n",
       "      <td>6.930000e+05</td>\n",
       "    </tr>\n",
       "    <tr>\n",
       "      <th>32</th>\n",
       "      <td>450000.0</td>\n",
       "      <td>7.005405e+05</td>\n",
       "    </tr>\n",
       "    <tr>\n",
       "      <th>92</th>\n",
       "      <td>2800000.0</td>\n",
       "      <td>1.400000e+06</td>\n",
       "    </tr>\n",
       "    <tr>\n",
       "      <th>93</th>\n",
       "      <td>1225000.0</td>\n",
       "      <td>1.885000e+06</td>\n",
       "    </tr>\n",
       "    <tr>\n",
       "      <th>...</th>\n",
       "      <td>...</td>\n",
       "      <td>...</td>\n",
       "    </tr>\n",
       "    <tr>\n",
       "      <th>600038</th>\n",
       "      <td>4350000.0</td>\n",
       "      <td>5.353846e+06</td>\n",
       "    </tr>\n",
       "    <tr>\n",
       "      <th>600379</th>\n",
       "      <td>4900000.0</td>\n",
       "      <td>5.003554e+06</td>\n",
       "    </tr>\n",
       "    <tr>\n",
       "      <th>601236</th>\n",
       "      <td>1200000.0</td>\n",
       "      <td>2.400000e+06</td>\n",
       "    </tr>\n",
       "    <tr>\n",
       "      <th>601413</th>\n",
       "      <td>3625000.0</td>\n",
       "      <td>4.737737e+06</td>\n",
       "    </tr>\n",
       "    <tr>\n",
       "      <th>603378</th>\n",
       "      <td>720500.0</td>\n",
       "      <td>7.506831e+05</td>\n",
       "    </tr>\n",
       "  </tbody>\n",
       "</table>\n",
       "<p>5576 rows × 2 columns</p>\n",
       "</div>"
      ],
      "text/plain": [
       "        sale_price  hedonic_price\n",
       "10       2155000.0   1.950000e+06\n",
       "28        925000.0   6.930000e+05\n",
       "32        450000.0   7.005405e+05\n",
       "92       2800000.0   1.400000e+06\n",
       "93       1225000.0   1.885000e+06\n",
       "...            ...            ...\n",
       "600038   4350000.0   5.353846e+06\n",
       "600379   4900000.0   5.003554e+06\n",
       "601236   1200000.0   2.400000e+06\n",
       "601413   3625000.0   4.737737e+06\n",
       "603378    720500.0   7.506831e+05\n",
       "\n",
       "[5576 rows x 2 columns]"
      ]
     },
     "execution_count": 29,
     "metadata": {},
     "output_type": "execute_result"
    }
   ],
   "source": [
    "df[['sale_price','hedonic_price']]"
   ]
  },
  {
   "cell_type": "markdown",
   "id": "437699c3",
   "metadata": {},
   "source": [
    "Shows the `sale_price` and `hedonic_price` columns for the DataFrame. This is useful to inspect the raw values used to compute mispricing and to check for obvious anomalies (zeros, negatives, or extreme values)."
   ]
  },
  {
   "cell_type": "markdown",
   "id": "e4a5beb5",
   "metadata": {},
   "source": [
    "# Dataset Info"
   ]
  },
  {
   "cell_type": "markdown",
   "id": "b5d20a99",
   "metadata": {},
   "source": [
    "Section header indicating the following cell prints basic dataset info (non-null counts and memory usage) using `df.info()`."
   ]
  },
  {
   "cell_type": "code",
   "execution_count": 30,
   "id": "485a8835",
   "metadata": {},
   "outputs": [
    {
     "name": "stdout",
     "output_type": "stream",
     "text": [
      "<class 'pandas.core.frame.DataFrame'>\n",
      "Index: 5576 entries, 10 to 603378\n",
      "Data columns (total 26 columns):\n",
      " #   Column                     Non-Null Count  Dtype         \n",
      "---  ------                     --------------  -----         \n",
      " 0   gid                        5576 non-null   object        \n",
      " 1   gnaf_pid                   5576 non-null   object        \n",
      " 2   listing_source             5576 non-null   object        \n",
      " 3   state                      5576 non-null   object        \n",
      " 4   street                     5576 non-null   object        \n",
      " 5   suburb                     5576 non-null   object        \n",
      " 6   bedrooms                   3940 non-null   float64       \n",
      " 7   bathrooms                  3870 non-null   float64       \n",
      " 8   garage_spaces              3696 non-null   float64       \n",
      " 9   building_size              4255 non-null   object        \n",
      " 10  land_size                  4169 non-null   float64       \n",
      " 11  mb                         5576 non-null   object        \n",
      " 12  sa1                        5576 non-null   object        \n",
      " 13  poa                        5576 non-null   object        \n",
      " 14  sal                        5576 non-null   object        \n",
      " 15  typ                        5576 non-null   object        \n",
      " 16  dat                        5576 non-null   datetime64[ns]\n",
      " 17  sale_price                 5560 non-null   float64       \n",
      " 18  zoning_appears_on_portals  5576 non-null   bool          \n",
      " 19  market                     5576 non-null   object        \n",
      " 20  hedonic_price              5559 non-null   float64       \n",
      " 21  date_sold                  5576 non-null   object        \n",
      " 22  display_price              5576 non-null   object        \n",
      " 23  source                     5576 non-null   object        \n",
      " 24  property_type              5576 non-null   object        \n",
      " 25  yield                      0 non-null      float64       \n",
      "dtypes: bool(1), datetime64[ns](1), float64(7), object(17)\n",
      "memory usage: 1.1+ MB\n",
      "None\n"
     ]
    }
   ],
   "source": [
    "print(df.info())\n"
   ]
  },
  {
   "cell_type": "markdown",
   "id": "c4af06b6",
   "metadata": {},
   "source": [
    "Prints DataFrame summary: column names, non-null counts and dtypes. Use this to verify missingness and whether columns were read in with expected types."
   ]
  },
  {
   "cell_type": "markdown",
   "id": "68bd7201",
   "metadata": {},
   "source": [
    "# Missing Values "
   ]
  },
  {
   "cell_type": "markdown",
   "id": "d5465224",
   "metadata": {},
   "source": [
    "Section header: the next code cell computes the count of missing values per column to identify incomplete fields that may require imputation or filtering."
   ]
  },
  {
   "cell_type": "code",
   "execution_count": 31,
   "id": "c935acb0",
   "metadata": {},
   "outputs": [
    {
     "data": {
      "text/plain": [
       "gid                             0\n",
       "gnaf_pid                        0\n",
       "listing_source                  0\n",
       "state                           0\n",
       "street                          0\n",
       "suburb                          0\n",
       "bedrooms                     1636\n",
       "bathrooms                    1706\n",
       "garage_spaces                1880\n",
       "building_size                1321\n",
       "land_size                    1407\n",
       "mb                              0\n",
       "sa1                             0\n",
       "poa                             0\n",
       "sal                             0\n",
       "typ                             0\n",
       "dat                             0\n",
       "sale_price                     16\n",
       "zoning_appears_on_portals       0\n",
       "market                          0\n",
       "hedonic_price                  17\n",
       "date_sold                       0\n",
       "display_price                   0\n",
       "source                          0\n",
       "property_type                   0\n",
       "yield                        5576\n",
       "dtype: int64"
      ]
     },
     "execution_count": 31,
     "metadata": {},
     "output_type": "execute_result"
    }
   ],
   "source": [
    "df.isnull().sum()"
   ]
  },
  {
   "cell_type": "markdown",
   "id": "016fd799",
   "metadata": {},
   "source": [
    "Computes the number of missing values for each column. High missing rates may indicate columns to drop or to impute before modeling/analysis."
   ]
  },
  {
   "cell_type": "markdown",
   "id": "a3c6ec5e",
   "metadata": {},
   "source": [
    "# Numeric Stats"
   ]
  },
  {
   "cell_type": "markdown",
   "id": "bccb5d49",
   "metadata": {},
   "source": [
    "Section header: the following code cell computes descriptive statistics for key numeric columns (count, mean, std, min/max, quartiles)."
   ]
  },
  {
   "cell_type": "code",
   "execution_count": 34,
   "id": "64de2cb6",
   "metadata": {},
   "outputs": [
    {
     "data": {
      "text/html": [
       "<div>\n",
       "<style scoped>\n",
       "    .dataframe tbody tr th:only-of-type {\n",
       "        vertical-align: middle;\n",
       "    }\n",
       "\n",
       "    .dataframe tbody tr th {\n",
       "        vertical-align: top;\n",
       "    }\n",
       "\n",
       "    .dataframe thead th {\n",
       "        text-align: right;\n",
       "    }\n",
       "</style>\n",
       "<table border=\"1\" class=\"dataframe\">\n",
       "  <thead>\n",
       "    <tr style=\"text-align: right;\">\n",
       "      <th></th>\n",
       "      <th>bedrooms</th>\n",
       "      <th>bathrooms</th>\n",
       "      <th>garage_spaces</th>\n",
       "      <th>land_size</th>\n",
       "      <th>hedonic_price</th>\n",
       "      <th>yield</th>\n",
       "      <th>sale_price</th>\n",
       "    </tr>\n",
       "  </thead>\n",
       "  <tbody>\n",
       "    <tr>\n",
       "      <th>count</th>\n",
       "      <td>3940.000000</td>\n",
       "      <td>3870.000000</td>\n",
       "      <td>3696.000000</td>\n",
       "      <td>4.169000e+03</td>\n",
       "      <td>5.559000e+03</td>\n",
       "      <td>0.0</td>\n",
       "      <td>5.560000e+03</td>\n",
       "    </tr>\n",
       "    <tr>\n",
       "      <th>mean</th>\n",
       "      <td>3.423858</td>\n",
       "      <td>2.134625</td>\n",
       "      <td>1.768398</td>\n",
       "      <td>2.301811e+04</td>\n",
       "      <td>1.647374e+06</td>\n",
       "      <td>NaN</td>\n",
       "      <td>1.580499e+06</td>\n",
       "    </tr>\n",
       "    <tr>\n",
       "      <th>std</th>\n",
       "      <td>1.320273</td>\n",
       "      <td>1.037281</td>\n",
       "      <td>0.890447</td>\n",
       "      <td>1.338503e+06</td>\n",
       "      <td>1.591267e+06</td>\n",
       "      <td>NaN</td>\n",
       "      <td>1.520344e+06</td>\n",
       "    </tr>\n",
       "    <tr>\n",
       "      <th>min</th>\n",
       "      <td>0.000000</td>\n",
       "      <td>0.000000</td>\n",
       "      <td>0.000000</td>\n",
       "      <td>0.000000e+00</td>\n",
       "      <td>1.544318e+03</td>\n",
       "      <td>NaN</td>\n",
       "      <td>1.300000e+03</td>\n",
       "    </tr>\n",
       "    <tr>\n",
       "      <th>25%</th>\n",
       "      <td>3.000000</td>\n",
       "      <td>1.000000</td>\n",
       "      <td>1.000000</td>\n",
       "      <td>3.980000e+02</td>\n",
       "      <td>8.358733e+05</td>\n",
       "      <td>NaN</td>\n",
       "      <td>7.500000e+05</td>\n",
       "    </tr>\n",
       "    <tr>\n",
       "      <th>50%</th>\n",
       "      <td>4.000000</td>\n",
       "      <td>2.000000</td>\n",
       "      <td>2.000000</td>\n",
       "      <td>6.450000e+02</td>\n",
       "      <td>1.235799e+06</td>\n",
       "      <td>NaN</td>\n",
       "      <td>1.180000e+06</td>\n",
       "    </tr>\n",
       "    <tr>\n",
       "      <th>75%</th>\n",
       "      <td>4.000000</td>\n",
       "      <td>3.000000</td>\n",
       "      <td>2.000000</td>\n",
       "      <td>8.470000e+02</td>\n",
       "      <td>1.914756e+06</td>\n",
       "      <td>NaN</td>\n",
       "      <td>1.900000e+06</td>\n",
       "    </tr>\n",
       "    <tr>\n",
       "      <th>max</th>\n",
       "      <td>10.000000</td>\n",
       "      <td>10.000000</td>\n",
       "      <td>10.000000</td>\n",
       "      <td>8.626000e+07</td>\n",
       "      <td>3.700000e+07</td>\n",
       "      <td>NaN</td>\n",
       "      <td>1.950000e+07</td>\n",
       "    </tr>\n",
       "  </tbody>\n",
       "</table>\n",
       "</div>"
      ],
      "text/plain": [
       "          bedrooms    bathrooms  garage_spaces     land_size  hedonic_price  \\\n",
       "count  3940.000000  3870.000000    3696.000000  4.169000e+03   5.559000e+03   \n",
       "mean      3.423858     2.134625       1.768398  2.301811e+04   1.647374e+06   \n",
       "std       1.320273     1.037281       0.890447  1.338503e+06   1.591267e+06   \n",
       "min       0.000000     0.000000       0.000000  0.000000e+00   1.544318e+03   \n",
       "25%       3.000000     1.000000       1.000000  3.980000e+02   8.358733e+05   \n",
       "50%       4.000000     2.000000       2.000000  6.450000e+02   1.235799e+06   \n",
       "75%       4.000000     3.000000       2.000000  8.470000e+02   1.914756e+06   \n",
       "max      10.000000    10.000000      10.000000  8.626000e+07   3.700000e+07   \n",
       "\n",
       "       yield    sale_price  \n",
       "count    0.0  5.560000e+03  \n",
       "mean     NaN  1.580499e+06  \n",
       "std      NaN  1.520344e+06  \n",
       "min      NaN  1.300000e+03  \n",
       "25%      NaN  7.500000e+05  \n",
       "50%      NaN  1.180000e+06  \n",
       "75%      NaN  1.900000e+06  \n",
       "max      NaN  1.950000e+07  "
      ]
     },
     "execution_count": 34,
     "metadata": {},
     "output_type": "execute_result"
    }
   ],
   "source": [
    "df[['bedrooms','bathrooms','garage_spaces','land_size','hedonic_price','yield','sale_price']].describe()\n"
   ]
  },
  {
   "cell_type": "markdown",
   "id": "9e8363b8",
   "metadata": {},
   "source": [
    "Produces descriptive statistics (count, mean, std, min, 25/50/75%, max) for common numeric columns. Inspect these to check for unrealistic values (e.g., extremely large land_size or sale_price)."
   ]
  },
  {
   "cell_type": "code",
   "execution_count": 35,
   "id": "5ad21d29",
   "metadata": {},
   "outputs": [
    {
     "name": "stdout",
     "output_type": "stream",
     "text": [
      "\n",
      "=== Unique Values per Categorical Column ===\n",
      "state: 1 unique values\n",
      "suburb: 16 unique values\n",
      "property_type: 3 unique values\n",
      "market: 16 unique values\n",
      "listing_source: 1 unique values\n",
      "street: 4443 unique values\n",
      "mb: 411 unique values\n",
      "sa1: 98 unique values\n",
      "poa: 3 unique values\n",
      "sal: 9 unique values\n",
      "typ: 2 unique values\n"
     ]
    }
   ],
   "source": [
    "categorical_cols = ['state','suburb','property_type','market','listing_source','street','mb','sa1','poa','sal','typ']\n",
    "print(\"\\n=== Unique Values per Categorical Column ===\")\n",
    "for col in categorical_cols:\n",
    "    print(f\"{col}: {df[col].nunique()} unique values\")\n"
   ]
  },
  {
   "cell_type": "markdown",
   "id": "2a925d2f",
   "metadata": {},
   "source": [
    "Counts the number of unique values for several categorical columns. Useful to detect high-cardinality features that may need special handling (grouping, hashing) before modeling or summarization."
   ]
  },
  {
   "cell_type": "code",
   "execution_count": 36,
   "id": "be3830ad",
   "metadata": {},
   "outputs": [
    {
     "name": "stdout",
     "output_type": "stream",
     "text": [
      "\n",
      "=== Outlier Check (Top 5%) ===\n",
      "bedrooms - 98 outliers above 95th percentile\n",
      "bathrooms - 62 outliers above 95th percentile\n",
      "garage_spaces - 164 outliers above 95th percentile\n",
      "land_size - 209 outliers above 95th percentile\n"
     ]
    },
    {
     "ename": "KeyError",
     "evalue": "'price'",
     "output_type": "error",
     "traceback": [
      "\u001b[31m---------------------------------------------------------------------------\u001b[39m",
      "\u001b[31mKeyError\u001b[39m                                  Traceback (most recent call last)",
      "\u001b[36mFile \u001b[39m\u001b[32m~\\AppData\\Roaming\\Python\\Python312\\site-packages\\pandas\\core\\indexes\\base.py:3805\u001b[39m, in \u001b[36mIndex.get_loc\u001b[39m\u001b[34m(self, key)\u001b[39m\n\u001b[32m   3804\u001b[39m \u001b[38;5;28;01mtry\u001b[39;00m:\n\u001b[32m-> \u001b[39m\u001b[32m3805\u001b[39m     \u001b[38;5;28;01mreturn\u001b[39;00m \u001b[38;5;28;43mself\u001b[39;49m\u001b[43m.\u001b[49m\u001b[43m_engine\u001b[49m\u001b[43m.\u001b[49m\u001b[43mget_loc\u001b[49m\u001b[43m(\u001b[49m\u001b[43mcasted_key\u001b[49m\u001b[43m)\u001b[49m\n\u001b[32m   3806\u001b[39m \u001b[38;5;28;01mexcept\u001b[39;00m \u001b[38;5;167;01mKeyError\u001b[39;00m \u001b[38;5;28;01mas\u001b[39;00m err:\n",
      "\u001b[36mFile \u001b[39m\u001b[32mindex.pyx:167\u001b[39m, in \u001b[36mpandas._libs.index.IndexEngine.get_loc\u001b[39m\u001b[34m()\u001b[39m\n",
      "\u001b[36mFile \u001b[39m\u001b[32mindex.pyx:196\u001b[39m, in \u001b[36mpandas._libs.index.IndexEngine.get_loc\u001b[39m\u001b[34m()\u001b[39m\n",
      "\u001b[36mFile \u001b[39m\u001b[32mpandas\\\\_libs\\\\hashtable_class_helper.pxi:7081\u001b[39m, in \u001b[36mpandas._libs.hashtable.PyObjectHashTable.get_item\u001b[39m\u001b[34m()\u001b[39m\n",
      "\u001b[36mFile \u001b[39m\u001b[32mpandas\\\\_libs\\\\hashtable_class_helper.pxi:7089\u001b[39m, in \u001b[36mpandas._libs.hashtable.PyObjectHashTable.get_item\u001b[39m\u001b[34m()\u001b[39m\n",
      "\u001b[31mKeyError\u001b[39m: 'price'",
      "\nThe above exception was the direct cause of the following exception:\n",
      "\u001b[31mKeyError\u001b[39m                                  Traceback (most recent call last)",
      "\u001b[36mCell\u001b[39m\u001b[36m \u001b[39m\u001b[32mIn[36]\u001b[39m\u001b[32m, line 4\u001b[39m\n\u001b[32m      2\u001b[39m \u001b[38;5;28mprint\u001b[39m(\u001b[33m\"\u001b[39m\u001b[38;5;130;01m\\n\u001b[39;00m\u001b[33m=== Outlier Check (Top 5\u001b[39m\u001b[33m%\u001b[39m\u001b[33m) ===\u001b[39m\u001b[33m\"\u001b[39m)\n\u001b[32m      3\u001b[39m \u001b[38;5;28;01mfor\u001b[39;00m col \u001b[38;5;129;01min\u001b[39;00m numeric_cols:\n\u001b[32m----> \u001b[39m\u001b[32m4\u001b[39m     threshold = \u001b[43mdf\u001b[49m\u001b[43m[\u001b[49m\u001b[43mcol\u001b[49m\u001b[43m]\u001b[49m.quantile(\u001b[32m0.95\u001b[39m)\n\u001b[32m      5\u001b[39m     outliers = df[df[col] > threshold]\n\u001b[32m      6\u001b[39m     \u001b[38;5;28mprint\u001b[39m(\u001b[33mf\u001b[39m\u001b[33m\"\u001b[39m\u001b[38;5;132;01m{\u001b[39;00mcol\u001b[38;5;132;01m}\u001b[39;00m\u001b[33m - \u001b[39m\u001b[38;5;132;01m{\u001b[39;00m\u001b[38;5;28mlen\u001b[39m(outliers)\u001b[38;5;132;01m}\u001b[39;00m\u001b[33m outliers above 95th percentile\u001b[39m\u001b[33m\"\u001b[39m)\n",
      "\u001b[36mFile \u001b[39m\u001b[32m~\\AppData\\Roaming\\Python\\Python312\\site-packages\\pandas\\core\\frame.py:4102\u001b[39m, in \u001b[36mDataFrame.__getitem__\u001b[39m\u001b[34m(self, key)\u001b[39m\n\u001b[32m   4100\u001b[39m \u001b[38;5;28;01mif\u001b[39;00m \u001b[38;5;28mself\u001b[39m.columns.nlevels > \u001b[32m1\u001b[39m:\n\u001b[32m   4101\u001b[39m     \u001b[38;5;28;01mreturn\u001b[39;00m \u001b[38;5;28mself\u001b[39m._getitem_multilevel(key)\n\u001b[32m-> \u001b[39m\u001b[32m4102\u001b[39m indexer = \u001b[38;5;28;43mself\u001b[39;49m\u001b[43m.\u001b[49m\u001b[43mcolumns\u001b[49m\u001b[43m.\u001b[49m\u001b[43mget_loc\u001b[49m\u001b[43m(\u001b[49m\u001b[43mkey\u001b[49m\u001b[43m)\u001b[49m\n\u001b[32m   4103\u001b[39m \u001b[38;5;28;01mif\u001b[39;00m is_integer(indexer):\n\u001b[32m   4104\u001b[39m     indexer = [indexer]\n",
      "\u001b[36mFile \u001b[39m\u001b[32m~\\AppData\\Roaming\\Python\\Python312\\site-packages\\pandas\\core\\indexes\\base.py:3812\u001b[39m, in \u001b[36mIndex.get_loc\u001b[39m\u001b[34m(self, key)\u001b[39m\n\u001b[32m   3807\u001b[39m     \u001b[38;5;28;01mif\u001b[39;00m \u001b[38;5;28misinstance\u001b[39m(casted_key, \u001b[38;5;28mslice\u001b[39m) \u001b[38;5;129;01mor\u001b[39;00m (\n\u001b[32m   3808\u001b[39m         \u001b[38;5;28misinstance\u001b[39m(casted_key, abc.Iterable)\n\u001b[32m   3809\u001b[39m         \u001b[38;5;129;01mand\u001b[39;00m \u001b[38;5;28many\u001b[39m(\u001b[38;5;28misinstance\u001b[39m(x, \u001b[38;5;28mslice\u001b[39m) \u001b[38;5;28;01mfor\u001b[39;00m x \u001b[38;5;129;01min\u001b[39;00m casted_key)\n\u001b[32m   3810\u001b[39m     ):\n\u001b[32m   3811\u001b[39m         \u001b[38;5;28;01mraise\u001b[39;00m InvalidIndexError(key)\n\u001b[32m-> \u001b[39m\u001b[32m3812\u001b[39m     \u001b[38;5;28;01mraise\u001b[39;00m \u001b[38;5;167;01mKeyError\u001b[39;00m(key) \u001b[38;5;28;01mfrom\u001b[39;00m \u001b[34;01merr\u001b[39;00m\n\u001b[32m   3813\u001b[39m \u001b[38;5;28;01mexcept\u001b[39;00m \u001b[38;5;167;01mTypeError\u001b[39;00m:\n\u001b[32m   3814\u001b[39m     \u001b[38;5;66;03m# If we have a listlike key, _check_indexing_error will raise\u001b[39;00m\n\u001b[32m   3815\u001b[39m     \u001b[38;5;66;03m#  InvalidIndexError. Otherwise we fall through and re-raise\u001b[39;00m\n\u001b[32m   3816\u001b[39m     \u001b[38;5;66;03m#  the TypeError.\u001b[39;00m\n\u001b[32m   3817\u001b[39m     \u001b[38;5;28mself\u001b[39m._check_indexing_error(key)\n",
      "\u001b[31mKeyError\u001b[39m: 'price'"
     ]
    }
   ],
   "source": [
    "numeric_cols = ['bedrooms','bathrooms','garage_spaces','land_size','price','hedonic_price','yield','sale_price']\n",
    "print(\"\\n=== Outlier Check (Top 5%) ===\")\n",
    "for col in numeric_cols:\n",
    "    threshold = df[col].quantile(0.95)\n",
    "    outliers = df[df[col] > threshold]\n",
    "    print(f\"{col} - {len(outliers)} outliers above 95th percentile\")"
   ]
  },
  {
   "cell_type": "markdown",
   "id": "114ee779",
   "metadata": {},
   "source": [
    "Per-column outlier check: computes the 95th percentile for each numeric column and counts rows above that threshold. This gives a quick view of heavy-tail behavior and potential outliers to inspect or handle."
   ]
  },
  {
   "cell_type": "code",
   "execution_count": 37,
   "id": "9962264d",
   "metadata": {},
   "outputs": [
    {
     "data": {
      "image/png": "[encoded data removed]",
      "text/plain": [
       "<Figure size 600x300 with 1 Axes>"
      ]
     },
     "metadata": {},
     "output_type": "display_data"
    },
    {
     "data": {
      "image/png": "[encoded data removed]",
      "text/plain": [
       "<Figure size 600x300 with 1 Axes>"
      ]
     },
     "metadata": {},
     "output_type": "display_data"
    },
    {
     "data": {
      "image/png": "[encoded data removed]",
      "text/plain": [
       "<Figure size 600x300 with 1 Axes>"
      ]
     },
     "metadata": {},
     "output_type": "display_data"
    },
    {
     "data": {
      "image/png": "[encoded data removed]",
      "text/plain": [
       "<Figure size 600x300 with 1 Axes>"
      ]
     },
     "metadata": {},
     "output_type": "display_data"
    },
    {
     "data": {
      "image/png": "[encoded data removed]",
      "text/plain": [
       "<Figure size 600x300 with 1 Axes>"
      ]
     },
     "metadata": {},
     "output_type": "display_data"
    },
    {
     "data": {
      "image/png": "[encoded data removed]",
      "text/plain": [
       "<Figure size 600x300 with 1 Axes>"
      ]
     },
     "metadata": {},
     "output_type": "display_data"
    },
    {
     "data": {
      "image/png": "[encoded data removed]",
      "text/plain": [
       "<Figure size 600x300 with 1 Axes>"
      ]
     },
     "metadata": {},
     "output_type": "display_data"
    }
   ],
   "source": [
    "for col in df.select_dtypes(include=['int','float']):\n",
    "    plt.figure(figsize=(6,3))\n",
    "    sns.histplot(df[col].dropna(), bins=30, kde=True)\n",
    "    plt.title(f'Distribution of {col}')\n",
    "    plt.show()"
   ]
  },
  {
   "cell_type": "markdown",
   "id": "c56260f1",
   "metadata": {},
   "source": [
    "Plots histograms (with KDE) for every numeric column. Use these plots to visually assess distributions, skewness, multimodality, and outliers. Rendering them inline helps choose transformations (log, winsorize) if needed."
   ]
  },
  {
   "cell_type": "markdown",
   "id": "1c523210",
   "metadata": {},
   "source": [
    "# Hedonic Mispricing"
   ]
  },
  {
   "cell_type": "markdown",
   "id": "268445de",
   "metadata": {},
   "source": [
    "Header for hedonic mispricing calculations. The following cells compute ratios and a mispricing measure comparing sale prices to hedonic model predictions."
   ]
  },
  {
   "cell_type": "markdown",
   "id": "b27412f6",
   "metadata": {},
   "source": [
    "**Objective:** Compare actual sale price against the hedonic price estimate to identify mispricing at the property level.  \n",
    "\n",
    "**Explanation:**  \n",
    "- `price_to_hedonic_ratio = sale_price / hedonic_price`  \n",
    "- Ratio > 1 → property sold above its predicted value (overpriced)  \n",
    "- Ratio < 1 → property sold below its predicted value (undervalued)\n"
   ]
  },
  {
   "cell_type": "code",
   "execution_count": 38,
   "id": "d6f976ff",
   "metadata": {},
   "outputs": [],
   "source": [
    "df['price_to_hedonic_ratio'] = df['sale_price'] / df['hedonic_price']"
   ]
  },
  {
   "cell_type": "markdown",
   "id": "0bacf209",
   "metadata": {},
   "source": [
    "Creates a new column `price_to_hedonic_ratio` equal to sale_price divided by the hedonic model prediction. Values <1 indicate the sale was below the prediction; values >1 indicate the sale exceeded the prediction. Check for division-by-zero if any `hedonic_price` values are zero or null."
   ]
  },
  {
   "cell_type": "markdown",
   "id": "f711d412",
   "metadata": {},
   "source": [
    "**Objective:** Transform the price ratio into an intuitive mispricing metric.  \n",
    "\n",
    "**Explanation:**  \n",
    "- `hedonic_mispricing = 1 - price_to_hedonic_ratio`  \n",
    "- Positive values indicate undervaluation (potential investment opportunity)  \n",
    "- Negative values indicate overvaluation (caution required)\n"
   ]
  },
  {
   "cell_type": "code",
   "execution_count": 39,
   "id": "1680ffe2",
   "metadata": {},
   "outputs": [],
   "source": [
    "df['hedonic_mispricing'] = 1 - df['price_to_hedonic_ratio']\n"
   ]
  },
  {
   "cell_type": "markdown",
   "id": "25c66ad6",
   "metadata": {},
   "source": [
    "Computes `hedonic_mispricing = 1 - price_to_hedonic_ratio`. Positive `hedonic_mispricing` means the sale price is below the hedonic prediction (potential undervaluation); negative values indicate overvaluation. This is the primary metric used later for ranking suburbs and flagging properties."
   ]
  },
  {
   "cell_type": "code",
   "execution_count": 40,
   "id": "060923b0",
   "metadata": {},
   "outputs": [
    {
     "data": {
      "text/plain": [
       "<Axes: title={'center': 'Hedonic Mispricing Distribution'}, ylabel='Frequency'>"
      ]
     },
     "execution_count": 40,
     "metadata": {},
     "output_type": "execute_result"
    },
    {
     "data": {
      "image/png": "[encoded data removed]",
      "text/plain": [
       "<Figure size 640x480 with 1 Axes>"
      ]
     },
     "metadata": {},
     "output_type": "display_data"
    }
   ],
   "source": [
    "df['hedonic_mispricing'].plot(kind='hist', bins=50, title='Hedonic Mispricing Distribution')"
   ]
  },
  {
   "cell_type": "markdown",
   "id": "a7ded30c",
   "metadata": {},
   "source": [
    "**Objective:** Get an overview of the distribution of hedonic mispricing across all properties.  \n",
    "\n",
    "**Explanation:**  \n",
    "- `describe()` shows mean, median, min, max, and quartiles  \n",
    "- Helps understand typical mispricing levels and detect extreme values\n"
   ]
  },
  {
   "cell_type": "code",
   "execution_count": 41,
   "id": "44025057",
   "metadata": {},
   "outputs": [
    {
     "name": "stdout",
     "output_type": "stream",
     "text": [
      "=== Hedonic Mispricing Stats ===\n"
     ]
    },
    {
     "data": {
      "text/plain": [
       "count    5559.000000\n",
       "mean        0.032338\n",
       "std         0.305886\n",
       "min        -1.000000\n",
       "25%        -0.087627\n",
       "50%         0.056798\n",
       "75%         0.224187\n",
       "max         0.500000\n",
       "Name: hedonic_mispricing, dtype: float64"
      ]
     },
     "execution_count": 41,
     "metadata": {},
     "output_type": "execute_result"
    }
   ],
   "source": [
    "print(\"=== Hedonic Mispricing Stats ===\")\n",
    "df['hedonic_mispricing'].describe()"
   ]
  },
  {
   "cell_type": "markdown",
   "id": "1fcc0350",
   "metadata": {},
   "source": [
    "Prints summary statistics for the `hedonic_mispricing` series (count, mean, std, min/max, quartiles). Use this to understand the central tendency and spread of mispricing across the dataset."
   ]
  },
  {
   "cell_type": "markdown",
   "id": "25d8657d",
   "metadata": {},
   "source": [
    "**Objective:** Flag properties that are extreme outliers in terms of undervaluation or overvaluation.  \n",
    "\n",
    "**Explanation:**  \n",
    "- `undervalued_threshold = 95th percentile`  \n",
    "- `overvalued_threshold = 5th percentile`  \n",
    "- Filtering properties above/below these thresholds identifies high-alpha or risky listings\n"
   ]
  },
  {
   "cell_type": "code",
   "execution_count": 42,
   "id": "eaa4540c",
   "metadata": {},
   "outputs": [],
   "source": [
    "undervalued_threshold = df['hedonic_mispricing'].quantile(0.95)\n",
    "overvalued_threshold = df['hedonic_mispricing'].quantile(0.05)\n",
    "\n",
    "undervalued_properties = df[df['hedonic_mispricing'] >= undervalued_threshold]\n",
    "overvalued_properties = df[df['hedonic_mispricing'] <= overvalued_threshold]"
   ]
  },
  {
   "cell_type": "markdown",
   "id": "30fa8623",
   "metadata": {},
   "source": [
    "Calculates the 95th and 5th percentile thresholds of `hedonic_mispricing` to define top undervalued and overvalued properties. It then filters `df` into two DataFrames: `undervalued_properties` and `overvalued_properties`. These selections are used for detailed inspection and counts."
   ]
  },
  {
   "cell_type": "code",
   "execution_count": 43,
   "id": "0d81c04b",
   "metadata": {},
   "outputs": [
    {
     "name": "stdout",
     "output_type": "stream",
     "text": [
      "Number of Top Undervalued Properties: 391\n",
      "Number of Top Overvalued Properties: 278\n"
     ]
    }
   ],
   "source": [
    "print(f\"Number of Top Undervalued Properties: {len(undervalued_properties)}\")\n",
    "print(f\"Number of Top Overvalued Properties: {len(overvalued_properties)}\")"
   ]
  },
  {
   "cell_type": "markdown",
   "id": "90838729",
   "metadata": {},
   "source": [
    "Prints the number of properties flagged as top undervalued and top overvalued. Expect these counts to be roughly 5% of the dataset each, though ties at the threshold can affect exact counts."
   ]
  },
  {
   "cell_type": "markdown",
   "id": "181ce481",
   "metadata": {},
   "source": [
    "**Objective:** Analyze mispricing at the micro-market (suburb) level rather than individual properties.  \n",
    "\n",
    "**Explanation:**  \n",
    "- Group by `suburb` and calculate:  \n",
    "    - `avg_mispricing` → average mispricing in the suburb  \n",
    "    - `median_price` → typical property price  \n",
    "    - `median_yield` → typical rental yield  \n",
    "    - `count_properties` → liquidity indicator  \n",
    "- Helps investors spot undervalued micro-markets\n"
   ]
  },
  {
   "cell_type": "code",
   "execution_count": 44,
   "id": "3ed241be",
   "metadata": {},
   "outputs": [],
   "source": [
    "suburb_summary = df.groupby('suburb').agg(\n",
    "    avg_mispricing=('hedonic_mispricing', 'mean'),\n",
    "    median_price=('sale_price', 'median'),\n",
    "    median_yield=('yield', 'median'),\n",
    "    count_properties=('sale_price', 'count')\n",
    ").reset_index()"
   ]
  },
  {
   "cell_type": "markdown",
   "id": "2a7ded77",
   "metadata": {},
   "source": [
    "Aggregates results at the `suburb` level: computes average mispricing, median sale price, median yield, and property counts. This summary is useful to rank suburbs by typical undervaluation and identify candidate areas for further investigation."
   ]
  },
  {
   "cell_type": "code",
   "execution_count": 45,
   "id": "9315356a",
   "metadata": {},
   "outputs": [],
   "source": [
    "suburb_summary = suburb_summary.sort_values('avg_mispricing', ascending=False)\n"
   ]
  },
  {
   "cell_type": "markdown",
   "id": "2c27d054",
   "metadata": {},
   "source": [
    "Sorts the `suburb_summary` DataFrame by `avg_mispricing` in descending order so suburbs with the largest average undervaluation appear first."
   ]
  },
  {
   "cell_type": "markdown",
   "id": "30929b5d",
   "metadata": {},
   "source": [
    "### Top Suburbs by Average Hedonic Undervaluation "
   ]
  },
  {
   "cell_type": "markdown",
   "id": "6569bf9d",
   "metadata": {},
   "source": [
    "**Objective:** Identify the top suburbs with systematic undervaluation.  \n",
    "\n",
    "**Explanation:**  \n",
    "- Sorting by `avg_mispricing` in descending order highlights suburbs where the market may be underpricing properties consistently  \n",
    "- Useful for investors looking for **macro + micro alpha opportunities**\n"
   ]
  },
  {
   "cell_type": "code",
   "execution_count": 46,
   "id": "b9739925",
   "metadata": {},
   "outputs": [
    {
     "data": {
      "text/html": [
       "<div>\n",
       "<style scoped>\n",
       "    .dataframe tbody tr th:only-of-type {\n",
       "        vertical-align: middle;\n",
       "    }\n",
       "\n",
       "    .dataframe tbody tr th {\n",
       "        vertical-align: top;\n",
       "    }\n",
       "\n",
       "    .dataframe thead th {\n",
       "        text-align: right;\n",
       "    }\n",
       "</style>\n",
       "<table border=\"1\" class=\"dataframe\">\n",
       "  <thead>\n",
       "    <tr style=\"text-align: right;\">\n",
       "      <th></th>\n",
       "      <th>suburb</th>\n",
       "      <th>avg_mispricing</th>\n",
       "      <th>median_price</th>\n",
       "      <th>median_yield</th>\n",
       "      <th>count_properties</th>\n",
       "    </tr>\n",
       "  </thead>\n",
       "  <tbody>\n",
       "    <tr>\n",
       "      <th>15</th>\n",
       "      <td>WOLLONGONG</td>\n",
       "      <td>0.342550</td>\n",
       "      <td>700000.0</td>\n",
       "      <td>NaN</td>\n",
       "      <td>1</td>\n",
       "    </tr>\n",
       "    <tr>\n",
       "      <th>3</th>\n",
       "      <td>EAST CHATSWOOD</td>\n",
       "      <td>0.117472</td>\n",
       "      <td>585000.0</td>\n",
       "      <td>NaN</td>\n",
       "      <td>1</td>\n",
       "    </tr>\n",
       "    <tr>\n",
       "      <th>8</th>\n",
       "      <td>NORTHBRIDGE</td>\n",
       "      <td>0.058372</td>\n",
       "      <td>1400000.0</td>\n",
       "      <td>NaN</td>\n",
       "      <td>931</td>\n",
       "    </tr>\n",
       "    <tr>\n",
       "      <th>7</th>\n",
       "      <td>NORTH WILLOUGHBY</td>\n",
       "      <td>0.055093</td>\n",
       "      <td>1122500.0</td>\n",
       "      <td>NaN</td>\n",
       "      <td>614</td>\n",
       "    </tr>\n",
       "    <tr>\n",
       "      <th>14</th>\n",
       "      <td>WILLOUHBY</td>\n",
       "      <td>0.049676</td>\n",
       "      <td>577500.0</td>\n",
       "      <td>NaN</td>\n",
       "      <td>1</td>\n",
       "    </tr>\n",
       "    <tr>\n",
       "      <th>9</th>\n",
       "      <td>ROSEVILLE</td>\n",
       "      <td>0.039860</td>\n",
       "      <td>997750.0</td>\n",
       "      <td>NaN</td>\n",
       "      <td>1804</td>\n",
       "    </tr>\n",
       "    <tr>\n",
       "      <th>12</th>\n",
       "      <td>WILLOUGHBY EAST</td>\n",
       "      <td>0.029648</td>\n",
       "      <td>1380000.0</td>\n",
       "      <td>NaN</td>\n",
       "      <td>215</td>\n",
       "    </tr>\n",
       "    <tr>\n",
       "      <th>11</th>\n",
       "      <td>WILLOUGHBY</td>\n",
       "      <td>0.028923</td>\n",
       "      <td>980000.0</td>\n",
       "      <td>NaN</td>\n",
       "      <td>1042</td>\n",
       "    </tr>\n",
       "    <tr>\n",
       "      <th>6</th>\n",
       "      <td>MIDDLE COVE</td>\n",
       "      <td>0.023796</td>\n",
       "      <td>1251400.0</td>\n",
       "      <td>NaN</td>\n",
       "      <td>150</td>\n",
       "    </tr>\n",
       "    <tr>\n",
       "      <th>10</th>\n",
       "      <td>ROSEVILLE CHASE</td>\n",
       "      <td>0.012171</td>\n",
       "      <td>1285000.0</td>\n",
       "      <td>NaN</td>\n",
       "      <td>174</td>\n",
       "    </tr>\n",
       "  </tbody>\n",
       "</table>\n",
       "</div>"
      ],
      "text/plain": [
       "              suburb  avg_mispricing  median_price  median_yield  \\\n",
       "15        WOLLONGONG        0.342550      700000.0           NaN   \n",
       "3     EAST CHATSWOOD        0.117472      585000.0           NaN   \n",
       "8        NORTHBRIDGE        0.058372     1400000.0           NaN   \n",
       "7   NORTH WILLOUGHBY        0.055093     1122500.0           NaN   \n",
       "14         WILLOUHBY        0.049676      577500.0           NaN   \n",
       "9          ROSEVILLE        0.039860      997750.0           NaN   \n",
       "12   WILLOUGHBY EAST        0.029648     1380000.0           NaN   \n",
       "11        WILLOUGHBY        0.028923      980000.0           NaN   \n",
       "6        MIDDLE COVE        0.023796     1251400.0           NaN   \n",
       "10   ROSEVILLE CHASE        0.012171     1285000.0           NaN   \n",
       "\n",
       "    count_properties  \n",
       "15                 1  \n",
       "3                  1  \n",
       "8                931  \n",
       "7                614  \n",
       "14                 1  \n",
       "9               1804  \n",
       "12               215  \n",
       "11              1042  \n",
       "6                150  \n",
       "10               174  "
      ]
     },
     "execution_count": 46,
     "metadata": {},
     "output_type": "execute_result"
    }
   ],
   "source": [
    "suburb_summary.head(10)"
   ]
  },
  {
   "cell_type": "markdown",
   "id": "04afde88",
   "metadata": {},
   "source": [
    "Displays the top 10 rows of `suburb_summary`. This is the final quick view of suburbs ordered by average hedonic undervaluation; review the `count_properties` column to ensure there are enough observations for each suburb before trusting the average."
   ]
  },
  {
   "cell_type": "markdown",
   "id": "0de80c91",
   "metadata": {},
   "source": [
    "# Price Volatility & Risk"
   ]
  },
  {
   "cell_type": "markdown",
   "id": "db770d22",
   "metadata": {},
   "source": [
    "**Objective:** Measure price volatility at the suburb level to assess risk for investors.  \n",
    "\n",
    "**Explanation:**  \n",
    "- Group properties by `suburb` and calculate the standard deviation of `sale_price`.  \n",
    "- High standard deviation indicates unstable pricing, higher investment risk.  \n",
    "- Low standard deviation indicates more stable, predictable markets.\n"
   ]
  },
  {
   "cell_type": "code",
   "execution_count": 47,
   "id": "eb4823c9",
   "metadata": {},
   "outputs": [
    {
     "name": "stdout",
     "output_type": "stream",
     "text": [
      "=== Suburb-Level Price Volatility ===\n"
     ]
    },
    {
     "data": {
      "text/html": [
       "<div>\n",
       "<style scoped>\n",
       "    .dataframe tbody tr th:only-of-type {\n",
       "        vertical-align: middle;\n",
       "    }\n",
       "\n",
       "    .dataframe tbody tr th {\n",
       "        vertical-align: top;\n",
       "    }\n",
       "\n",
       "    .dataframe thead th {\n",
       "        text-align: right;\n",
       "    }\n",
       "</style>\n",
       "<table border=\"1\" class=\"dataframe\">\n",
       "  <thead>\n",
       "    <tr style=\"text-align: right;\">\n",
       "      <th></th>\n",
       "      <th>suburb</th>\n",
       "      <th>price_std</th>\n",
       "      <th>median_price</th>\n",
       "      <th>property_count</th>\n",
       "    </tr>\n",
       "  </thead>\n",
       "  <tbody>\n",
       "    <tr>\n",
       "      <th>0</th>\n",
       "      <td>CASTLE COVE</td>\n",
       "      <td>1.858725e+06</td>\n",
       "      <td>1565000.0</td>\n",
       "      <td>261</td>\n",
       "    </tr>\n",
       "    <tr>\n",
       "      <th>1</th>\n",
       "      <td>CASTLECRAG</td>\n",
       "      <td>1.603141e+06</td>\n",
       "      <td>1860000.0</td>\n",
       "      <td>338</td>\n",
       "    </tr>\n",
       "    <tr>\n",
       "      <th>2</th>\n",
       "      <td>CHATSWOOD</td>\n",
       "      <td>7.236247e+05</td>\n",
       "      <td>1030000.0</td>\n",
       "      <td>11</td>\n",
       "    </tr>\n",
       "    <tr>\n",
       "      <th>3</th>\n",
       "      <td>EAST ROSEVILLE</td>\n",
       "      <td>9.563619e+05</td>\n",
       "      <td>1033750.0</td>\n",
       "      <td>2</td>\n",
       "    </tr>\n",
       "    <tr>\n",
       "      <th>4</th>\n",
       "      <td>LINDFIELD</td>\n",
       "      <td>1.359356e+06</td>\n",
       "      <td>2500000.0</td>\n",
       "      <td>9</td>\n",
       "    </tr>\n",
       "  </tbody>\n",
       "</table>\n",
       "</div>"
      ],
      "text/plain": [
       "           suburb     price_std  median_price  property_count\n",
       "0     CASTLE COVE  1.858725e+06     1565000.0             261\n",
       "1      CASTLECRAG  1.603141e+06     1860000.0             338\n",
       "2       CHATSWOOD  7.236247e+05     1030000.0              11\n",
       "3  EAST ROSEVILLE  9.563619e+05     1033750.0               2\n",
       "4       LINDFIELD  1.359356e+06     2500000.0               9"
      ]
     },
     "execution_count": 47,
     "metadata": {},
     "output_type": "execute_result"
    }
   ],
   "source": [
    "suburb_volatility = df.groupby('suburb').agg(\n",
    "    price_std=('sale_price', 'std'),\n",
    "    median_price=('sale_price', 'median'),\n",
    "    property_count=('sale_price', 'count')\n",
    ").dropna(subset=['price_std']).reset_index()\n",
    "\n",
    "print(\"=== Suburb-Level Price Volatility ===\")\n",
    "suburb_volatility.head()"
   ]
  },
  {
   "cell_type": "markdown",
   "id": "28eec228",
   "metadata": {},
   "source": [
    "**Objective:** Standardize volatility so it can be combined with other metrics in an Investor Score.  \n",
    "\n",
    "**Explanation:**  \n",
    "- Investors prefer low volatility, so we invert the metric: higher normalized score = safer.  \n",
    "- Use z-score normalization for comparability with other metrics like hedonic mispricing.\n"
   ]
  },
  {
   "cell_type": "code",
   "execution_count": 48,
   "id": "3a881930",
   "metadata": {},
   "outputs": [
    {
     "name": "stdout",
     "output_type": "stream",
     "text": [
      "=== Volatility Scores (Z-Score) ===\n",
      "           suburb     price_std  volatility_score_z\n",
      "0     CASTLE COVE  1.858725e+06           -1.393994\n",
      "1      CASTLECRAG  1.603141e+06           -0.871817\n",
      "2       CHATSWOOD  7.236247e+05            0.925098\n",
      "3  EAST ROSEVILLE  9.563619e+05            0.449599\n",
      "4       LINDFIELD  1.359356e+06           -0.373747\n"
     ]
    }
   ],
   "source": [
    "from scipy.stats import zscore\n",
    "\n",
    "suburb_volatility['volatility_score'] = -suburb_volatility['price_std']\n",
    "\n",
    "suburb_volatility['volatility_score_z'] = zscore(suburb_volatility['volatility_score'])\n",
    "\n",
    "print(\"=== Volatility Scores (Z-Score) ===\")\n",
    "print(suburb_volatility[['suburb','price_std','volatility_score_z']].head())\n"
   ]
  },
  {
   "cell_type": "markdown",
   "id": "e1f16183",
   "metadata": {},
   "source": [
    "**Objective:** Measure price volatility at a finer micro-location (street) level for detailed insights.  \n",
    "\n",
    "**Explanation:**  \n",
    "- Group by `street` (or `suburb + street`) and calculate standard deviation of `sale_price`.  \n",
    "- Helps identify streets that are more stable vs streets with highly fluctuating prices.\n"
   ]
  },
  {
   "cell_type": "code",
   "execution_count": 49,
   "id": "1af787d2",
   "metadata": {},
   "outputs": [
    {
     "name": "stdout",
     "output_type": "stream",
     "text": [
      "=== Street-Level Volatility Scores ===\n"
     ]
    },
    {
     "data": {
      "text/html": [
       "<div>\n",
       "<style scoped>\n",
       "    .dataframe tbody tr th:only-of-type {\n",
       "        vertical-align: middle;\n",
       "    }\n",
       "\n",
       "    .dataframe tbody tr th {\n",
       "        vertical-align: top;\n",
       "    }\n",
       "\n",
       "    .dataframe thead th {\n",
       "        text-align: right;\n",
       "    }\n",
       "</style>\n",
       "<table border=\"1\" class=\"dataframe\">\n",
       "  <thead>\n",
       "    <tr style=\"text-align: right;\">\n",
       "      <th></th>\n",
       "      <th>suburb</th>\n",
       "      <th>street</th>\n",
       "      <th>price_std</th>\n",
       "      <th>median_price</th>\n",
       "      <th>property_count</th>\n",
       "      <th>volatility_score</th>\n",
       "      <th>volatility_score_z</th>\n",
       "    </tr>\n",
       "  </thead>\n",
       "  <tbody>\n",
       "    <tr>\n",
       "      <th>0</th>\n",
       "      <td>CASTLE COVE</td>\n",
       "      <td>1 BAMPI PL</td>\n",
       "      <td>4.384062e+05</td>\n",
       "      <td>2190000.0</td>\n",
       "      <td>2</td>\n",
       "      <td>-4.384062e+05</td>\n",
       "      <td>0.138425</td>\n",
       "    </tr>\n",
       "    <tr>\n",
       "      <th>1</th>\n",
       "      <td>CASTLE COVE</td>\n",
       "      <td>10 ALLAMBIE RD</td>\n",
       "      <td>2.333452e+05</td>\n",
       "      <td>1215000.0</td>\n",
       "      <td>2</td>\n",
       "      <td>-2.333452e+05</td>\n",
       "      <td>0.366992</td>\n",
       "    </tr>\n",
       "    <tr>\n",
       "      <th>2</th>\n",
       "      <td>CASTLE COVE</td>\n",
       "      <td>10 WILLOWIE RD</td>\n",
       "      <td>3.203194e+06</td>\n",
       "      <td>4105000.0</td>\n",
       "      <td>2</td>\n",
       "      <td>-3.203194e+06</td>\n",
       "      <td>-2.943292</td>\n",
       "    </tr>\n",
       "    <tr>\n",
       "      <th>3</th>\n",
       "      <td>CASTLE COVE</td>\n",
       "      <td>114 DEEPWATER RD</td>\n",
       "      <td>9.616652e+05</td>\n",
       "      <td>2080000.0</td>\n",
       "      <td>2</td>\n",
       "      <td>-9.616652e+05</td>\n",
       "      <td>-0.444816</td>\n",
       "    </tr>\n",
       "    <tr>\n",
       "      <th>4</th>\n",
       "      <td>CASTLE COVE</td>\n",
       "      <td>116 DEEPWATER RD</td>\n",
       "      <td>5.091169e+05</td>\n",
       "      <td>1740000.0</td>\n",
       "      <td>2</td>\n",
       "      <td>-5.091169e+05</td>\n",
       "      <td>0.059609</td>\n",
       "    </tr>\n",
       "  </tbody>\n",
       "</table>\n",
       "</div>"
      ],
      "text/plain": [
       "        suburb            street     price_std  median_price  property_count  \\\n",
       "0  CASTLE COVE        1 BAMPI PL  4.384062e+05     2190000.0               2   \n",
       "1  CASTLE COVE    10 ALLAMBIE RD  2.333452e+05     1215000.0               2   \n",
       "2  CASTLE COVE    10 WILLOWIE RD  3.203194e+06     4105000.0               2   \n",
       "3  CASTLE COVE  114 DEEPWATER RD  9.616652e+05     2080000.0               2   \n",
       "4  CASTLE COVE  116 DEEPWATER RD  5.091169e+05     1740000.0               2   \n",
       "\n",
       "   volatility_score  volatility_score_z  \n",
       "0     -4.384062e+05            0.138425  \n",
       "1     -2.333452e+05            0.366992  \n",
       "2     -3.203194e+06           -2.943292  \n",
       "3     -9.616652e+05           -0.444816  \n",
       "4     -5.091169e+05            0.059609  "
      ]
     },
     "execution_count": 49,
     "metadata": {},
     "output_type": "execute_result"
    }
   ],
   "source": [
    "street_volatility = df.groupby(['suburb','street']).agg(\n",
    "    price_std=('sale_price', 'std'),\n",
    "    median_price=('sale_price', 'median'),\n",
    "    property_count=('sale_price', 'count')\n",
    ").dropna(subset=['price_std']).reset_index()\n",
    "\n",
    "street_volatility['volatility_score'] = -street_volatility['price_std']\n",
    "street_volatility['volatility_score_z'] = zscore(street_volatility['volatility_score'])\n",
    "\n",
    "print(\"=== Street-Level Volatility Scores ===\")\n",
    "street_volatility.head()\n"
   ]
  },
  {
   "cell_type": "markdown",
   "id": "a1cf003f",
   "metadata": {},
   "source": [
    "\n",
    "**Investor Takeaways:**  \n",
    "- Suburbs or streets with **high volatility (low score)** are riskier investments.  \n",
    "- Low-volatility areas are more predictable for capital growth.  \n",
    "- This metric can be combined with **hedonic mispricing** and **liquidity** to create a composite Investor Score.\n"
   ]
  },
  {
   "cell_type": "markdown",
   "id": "73506345",
   "metadata": {},
   "source": [
    "# Liquidity / Turnover"
   ]
  },
  {
   "cell_type": "markdown",
   "id": "3b09664d",
   "metadata": {},
   "source": [
    "**Objective:** Measure property transaction frequency at the suburb level to understand market liquidity.  \n",
    "\n",
    "**Explanation:**  \n",
    "- Count the number of sales (`sale_price`) in each suburb over the dataset period.  \n",
    "- More transactions → easier exit → more liquid market.  \n",
    "- This is a proxy for turnover and investor-friendly markets.\n"
   ]
  },
  {
   "cell_type": "code",
   "execution_count": 50,
   "id": "5c36880f",
   "metadata": {},
   "outputs": [
    {
     "name": "stdout",
     "output_type": "stream",
     "text": [
      "=== Top Suburbs by Liquidity ===\n"
     ]
    },
    {
     "data": {
      "text/html": [
       "<div>\n",
       "<style scoped>\n",
       "    .dataframe tbody tr th:only-of-type {\n",
       "        vertical-align: middle;\n",
       "    }\n",
       "\n",
       "    .dataframe tbody tr th {\n",
       "        vertical-align: top;\n",
       "    }\n",
       "\n",
       "    .dataframe thead th {\n",
       "        text-align: right;\n",
       "    }\n",
       "</style>\n",
       "<table border=\"1\" class=\"dataframe\">\n",
       "  <thead>\n",
       "    <tr style=\"text-align: right;\">\n",
       "      <th></th>\n",
       "      <th>suburb</th>\n",
       "      <th>sales_count</th>\n",
       "      <th>median_price</th>\n",
       "    </tr>\n",
       "  </thead>\n",
       "  <tbody>\n",
       "    <tr>\n",
       "      <th>9</th>\n",
       "      <td>ROSEVILLE</td>\n",
       "      <td>1804</td>\n",
       "      <td>997750.0</td>\n",
       "    </tr>\n",
       "    <tr>\n",
       "      <th>11</th>\n",
       "      <td>WILLOUGHBY</td>\n",
       "      <td>1042</td>\n",
       "      <td>980000.0</td>\n",
       "    </tr>\n",
       "    <tr>\n",
       "      <th>8</th>\n",
       "      <td>NORTHBRIDGE</td>\n",
       "      <td>931</td>\n",
       "      <td>1400000.0</td>\n",
       "    </tr>\n",
       "    <tr>\n",
       "      <th>7</th>\n",
       "      <td>NORTH WILLOUGHBY</td>\n",
       "      <td>614</td>\n",
       "      <td>1122500.0</td>\n",
       "    </tr>\n",
       "    <tr>\n",
       "      <th>1</th>\n",
       "      <td>CASTLECRAG</td>\n",
       "      <td>338</td>\n",
       "      <td>1860000.0</td>\n",
       "    </tr>\n",
       "    <tr>\n",
       "      <th>0</th>\n",
       "      <td>CASTLE COVE</td>\n",
       "      <td>261</td>\n",
       "      <td>1565000.0</td>\n",
       "    </tr>\n",
       "    <tr>\n",
       "      <th>12</th>\n",
       "      <td>WILLOUGHBY EAST</td>\n",
       "      <td>215</td>\n",
       "      <td>1380000.0</td>\n",
       "    </tr>\n",
       "    <tr>\n",
       "      <th>10</th>\n",
       "      <td>ROSEVILLE CHASE</td>\n",
       "      <td>174</td>\n",
       "      <td>1285000.0</td>\n",
       "    </tr>\n",
       "    <tr>\n",
       "      <th>6</th>\n",
       "      <td>MIDDLE COVE</td>\n",
       "      <td>150</td>\n",
       "      <td>1251400.0</td>\n",
       "    </tr>\n",
       "    <tr>\n",
       "      <th>2</th>\n",
       "      <td>CHATSWOOD</td>\n",
       "      <td>11</td>\n",
       "      <td>1030000.0</td>\n",
       "    </tr>\n",
       "  </tbody>\n",
       "</table>\n",
       "</div>"
      ],
      "text/plain": [
       "              suburb  sales_count  median_price\n",
       "9          ROSEVILLE         1804      997750.0\n",
       "11        WILLOUGHBY         1042      980000.0\n",
       "8        NORTHBRIDGE          931     1400000.0\n",
       "7   NORTH WILLOUGHBY          614     1122500.0\n",
       "1         CASTLECRAG          338     1860000.0\n",
       "0        CASTLE COVE          261     1565000.0\n",
       "12   WILLOUGHBY EAST          215     1380000.0\n",
       "10   ROSEVILLE CHASE          174     1285000.0\n",
       "6        MIDDLE COVE          150     1251400.0\n",
       "2          CHATSWOOD           11     1030000.0"
      ]
     },
     "execution_count": 50,
     "metadata": {},
     "output_type": "execute_result"
    }
   ],
   "source": [
    "suburb_turnover = df.groupby('suburb').agg(\n",
    "    sales_count=('sale_price', 'count'),\n",
    "    median_price=('sale_price', 'median')\n",
    ").reset_index()\n",
    "\n",
    "suburb_turnover = suburb_turnover.sort_values('sales_count', ascending=False)\n",
    "print(\"=== Top Suburbs by Liquidity ===\")\n",
    "suburb_turnover.head(10)"
   ]
  },
  {
   "cell_type": "markdown",
   "id": "4fe15fba",
   "metadata": {},
   "source": [
    "**Objective:** Standardize turnover so it can be combined with other metrics in a composite Investor Score.  \n",
    "\n",
    "**Explanation:**  \n",
    "- Normalize using z-score.  \n",
    "- Higher z-score → more liquid suburb → more attractive for investors.\n"
   ]
  },
  {
   "cell_type": "code",
   "execution_count": 51,
   "id": "67fb8c7d",
   "metadata": {},
   "outputs": [
    {
     "name": "stdout",
     "output_type": "stream",
     "text": [
      "=== Suburb Turnover Scores ===\n"
     ]
    },
    {
     "data": {
      "text/html": [
       "<div>\n",
       "<style scoped>\n",
       "    .dataframe tbody tr th:only-of-type {\n",
       "        vertical-align: middle;\n",
       "    }\n",
       "\n",
       "    .dataframe tbody tr th {\n",
       "        vertical-align: top;\n",
       "    }\n",
       "\n",
       "    .dataframe thead th {\n",
       "        text-align: right;\n",
       "    }\n",
       "</style>\n",
       "<table border=\"1\" class=\"dataframe\">\n",
       "  <thead>\n",
       "    <tr style=\"text-align: right;\">\n",
       "      <th></th>\n",
       "      <th>suburb</th>\n",
       "      <th>sales_count</th>\n",
       "      <th>turnover_score_z</th>\n",
       "    </tr>\n",
       "  </thead>\n",
       "  <tbody>\n",
       "    <tr>\n",
       "      <th>9</th>\n",
       "      <td>ROSEVILLE</td>\n",
       "      <td>1804</td>\n",
       "      <td>2.937540</td>\n",
       "    </tr>\n",
       "    <tr>\n",
       "      <th>11</th>\n",
       "      <td>WILLOUGHBY</td>\n",
       "      <td>1042</td>\n",
       "      <td>1.400701</td>\n",
       "    </tr>\n",
       "    <tr>\n",
       "      <th>8</th>\n",
       "      <td>NORTHBRIDGE</td>\n",
       "      <td>931</td>\n",
       "      <td>1.176831</td>\n",
       "    </tr>\n",
       "    <tr>\n",
       "      <th>7</th>\n",
       "      <td>NORTH WILLOUGHBY</td>\n",
       "      <td>614</td>\n",
       "      <td>0.537490</td>\n",
       "    </tr>\n",
       "    <tr>\n",
       "      <th>1</th>\n",
       "      <td>CASTLECRAG</td>\n",
       "      <td>338</td>\n",
       "      <td>-0.019160</td>\n",
       "    </tr>\n",
       "    <tr>\n",
       "      <th>0</th>\n",
       "      <td>CASTLE COVE</td>\n",
       "      <td>261</td>\n",
       "      <td>-0.174457</td>\n",
       "    </tr>\n",
       "    <tr>\n",
       "      <th>12</th>\n",
       "      <td>WILLOUGHBY EAST</td>\n",
       "      <td>215</td>\n",
       "      <td>-0.267232</td>\n",
       "    </tr>\n",
       "    <tr>\n",
       "      <th>10</th>\n",
       "      <td>ROSEVILLE CHASE</td>\n",
       "      <td>174</td>\n",
       "      <td>-0.349923</td>\n",
       "    </tr>\n",
       "    <tr>\n",
       "      <th>6</th>\n",
       "      <td>MIDDLE COVE</td>\n",
       "      <td>150</td>\n",
       "      <td>-0.398328</td>\n",
       "    </tr>\n",
       "    <tr>\n",
       "      <th>2</th>\n",
       "      <td>CHATSWOOD</td>\n",
       "      <td>11</td>\n",
       "      <td>-0.678670</td>\n",
       "    </tr>\n",
       "  </tbody>\n",
       "</table>\n",
       "</div>"
      ],
      "text/plain": [
       "              suburb  sales_count  turnover_score_z\n",
       "9          ROSEVILLE         1804          2.937540\n",
       "11        WILLOUGHBY         1042          1.400701\n",
       "8        NORTHBRIDGE          931          1.176831\n",
       "7   NORTH WILLOUGHBY          614          0.537490\n",
       "1         CASTLECRAG          338         -0.019160\n",
       "0        CASTLE COVE          261         -0.174457\n",
       "12   WILLOUGHBY EAST          215         -0.267232\n",
       "10   ROSEVILLE CHASE          174         -0.349923\n",
       "6        MIDDLE COVE          150         -0.398328\n",
       "2          CHATSWOOD           11         -0.678670"
      ]
     },
     "execution_count": 51,
     "metadata": {},
     "output_type": "execute_result"
    }
   ],
   "source": [
    "\n",
    "suburb_turnover['turnover_score_z'] = zscore(suburb_turnover['sales_count'])\n",
    "\n",
    "print(\"=== Suburb Turnover Scores ===\")\n",
    "suburb_turnover[['suburb','sales_count','turnover_score_z']].head(10)\n"
   ]
  },
  {
   "cell_type": "markdown",
   "id": "bb51af38",
   "metadata": {},
   "source": [
    "**Objective:** Measure liquidity at a finer street level for detailed investor insight.  \n",
    "\n",
    "**Explanation:**  \n",
    "- Group by `suburb + street` and count transactions.  \n",
    "- Streets with high turnover are easier to exit; low-turnover streets are less liquid.\n"
   ]
  },
  {
   "cell_type": "code",
   "execution_count": 52,
   "id": "e8e17f68",
   "metadata": {},
   "outputs": [
    {
     "name": "stdout",
     "output_type": "stream",
     "text": [
      "=== Street-Level Turnover Scores ===\n"
     ]
    },
    {
     "data": {
      "text/html": [
       "<div>\n",
       "<style scoped>\n",
       "    .dataframe tbody tr th:only-of-type {\n",
       "        vertical-align: middle;\n",
       "    }\n",
       "\n",
       "    .dataframe tbody tr th {\n",
       "        vertical-align: top;\n",
       "    }\n",
       "\n",
       "    .dataframe thead th {\n",
       "        text-align: right;\n",
       "    }\n",
       "</style>\n",
       "<table border=\"1\" class=\"dataframe\">\n",
       "  <thead>\n",
       "    <tr style=\"text-align: right;\">\n",
       "      <th></th>\n",
       "      <th>suburb</th>\n",
       "      <th>street</th>\n",
       "      <th>sales_count</th>\n",
       "      <th>median_price</th>\n",
       "      <th>turnover_score_z</th>\n",
       "    </tr>\n",
       "  </thead>\n",
       "  <tbody>\n",
       "    <tr>\n",
       "      <th>0</th>\n",
       "      <td>CASTLE COVE</td>\n",
       "      <td>1 ALLAMBIE RD</td>\n",
       "      <td>1</td>\n",
       "      <td>1050000.0</td>\n",
       "      <td>-0.254874</td>\n",
       "    </tr>\n",
       "    <tr>\n",
       "      <th>1</th>\n",
       "      <td>CASTLE COVE</td>\n",
       "      <td>1 BAMPI PL</td>\n",
       "      <td>2</td>\n",
       "      <td>2190000.0</td>\n",
       "      <td>0.813409</td>\n",
       "    </tr>\n",
       "    <tr>\n",
       "      <th>2</th>\n",
       "      <td>CASTLE COVE</td>\n",
       "      <td>1 EMERSTAN DR</td>\n",
       "      <td>1</td>\n",
       "      <td>4500000.0</td>\n",
       "      <td>-0.254874</td>\n",
       "    </tr>\n",
       "    <tr>\n",
       "      <th>3</th>\n",
       "      <td>CASTLE COVE</td>\n",
       "      <td>1 KENDALL RD</td>\n",
       "      <td>1</td>\n",
       "      <td>1310000.0</td>\n",
       "      <td>-0.254874</td>\n",
       "    </tr>\n",
       "    <tr>\n",
       "      <th>4</th>\n",
       "      <td>CASTLE COVE</td>\n",
       "      <td>1 WILLIS RD</td>\n",
       "      <td>1</td>\n",
       "      <td>2080000.0</td>\n",
       "      <td>-0.254874</td>\n",
       "    </tr>\n",
       "    <tr>\n",
       "      <th>5</th>\n",
       "      <td>CASTLE COVE</td>\n",
       "      <td>10 ALLAMBIE RD</td>\n",
       "      <td>2</td>\n",
       "      <td>1215000.0</td>\n",
       "      <td>0.813409</td>\n",
       "    </tr>\n",
       "    <tr>\n",
       "      <th>6</th>\n",
       "      <td>CASTLE COVE</td>\n",
       "      <td>10 HEADLAND RD</td>\n",
       "      <td>1</td>\n",
       "      <td>953888.0</td>\n",
       "      <td>-0.254874</td>\n",
       "    </tr>\n",
       "    <tr>\n",
       "      <th>7</th>\n",
       "      <td>CASTLE COVE</td>\n",
       "      <td>10 HOLLY ST</td>\n",
       "      <td>1</td>\n",
       "      <td>2200000.0</td>\n",
       "      <td>-0.254874</td>\n",
       "    </tr>\n",
       "    <tr>\n",
       "      <th>8</th>\n",
       "      <td>CASTLE COVE</td>\n",
       "      <td>10 KORINYA RD</td>\n",
       "      <td>1</td>\n",
       "      <td>200000.0</td>\n",
       "      <td>-0.254874</td>\n",
       "    </tr>\n",
       "    <tr>\n",
       "      <th>9</th>\n",
       "      <td>CASTLE COVE</td>\n",
       "      <td>10 WILLOWIE RD</td>\n",
       "      <td>2</td>\n",
       "      <td>4105000.0</td>\n",
       "      <td>0.813409</td>\n",
       "    </tr>\n",
       "  </tbody>\n",
       "</table>\n",
       "</div>"
      ],
      "text/plain": [
       "        suburb          street  sales_count  median_price  turnover_score_z\n",
       "0  CASTLE COVE   1 ALLAMBIE RD            1     1050000.0         -0.254874\n",
       "1  CASTLE COVE      1 BAMPI PL            2     2190000.0          0.813409\n",
       "2  CASTLE COVE   1 EMERSTAN DR            1     4500000.0         -0.254874\n",
       "3  CASTLE COVE    1 KENDALL RD            1     1310000.0         -0.254874\n",
       "4  CASTLE COVE     1 WILLIS RD            1     2080000.0         -0.254874\n",
       "5  CASTLE COVE  10 ALLAMBIE RD            2     1215000.0          0.813409\n",
       "6  CASTLE COVE  10 HEADLAND RD            1      953888.0         -0.254874\n",
       "7  CASTLE COVE     10 HOLLY ST            1     2200000.0         -0.254874\n",
       "8  CASTLE COVE   10 KORINYA RD            1      200000.0         -0.254874\n",
       "9  CASTLE COVE  10 WILLOWIE RD            2     4105000.0          0.813409"
      ]
     },
     "execution_count": 52,
     "metadata": {},
     "output_type": "execute_result"
    }
   ],
   "source": [
    "street_turnover = df.groupby(['suburb','street']).agg(\n",
    "    sales_count=('sale_price', 'count'),\n",
    "    median_price=('sale_price', 'median')\n",
    ").reset_index()\n",
    "\n",
    "street_turnover['turnover_score_z'] = zscore(street_turnover['sales_count'])\n",
    "\n",
    "print(\"=== Street-Level Turnover Scores ===\")\n",
    "street_turnover.head(10)\n"
   ]
  },
  {
   "cell_type": "markdown",
   "id": "1a6ebf39",
   "metadata": {},
   "source": [
    "**Investor Takeaways:**  \n",
    "- High-turnover suburbs/streets are easier to buy and sell → lower exit risk.  \n",
    "- Low-turnover areas may have higher price swings and less liquidity → higher risk.  \n",
    "- This metric complements **hedonic mispricing** (alpha) and **volatility** (risk) for a complete investor evaluation.\n"
   ]
  }
 ],
 "metadata": {
  "kernelspec": {
   "display_name": "base",
   "language": "python",
   "name": "python3"
  },
  "language_info": {
   "codemirror_mode": {
    "name": "ipython",
    "version": 3
   },
   "file_extension": ".py",
   "mimetype": "text/x-python",
   "name": "python",
   "nbconvert_exporter": "python",
   "pygments_lexer": "ipython3",
   "version": "3.12.9"
  }
 },
 "nbformat": 4,
 "nbformat_minor": 5
}
